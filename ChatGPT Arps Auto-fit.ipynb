{
 "cells": [
  {
   "cell_type": "code",
   "execution_count": 10,
   "metadata": {},
   "outputs": [],
   "source": [
    "import numpy as np\n",
    "import pandas as pd\n",
    "from scipy.optimize import minimize, curve_fit\n",
    "import matplotlib.pyplot as plt\n",
    "import pyodbc\n",
    "from datetime import date\n",
    "import streamlit as st\n",
    "import altair as alt\n",
    "import warnings\n",
    "warnings.filterwarnings(action='ignore')"
   ]
  },
  {
   "cell_type": "code",
   "execution_count": 2,
   "metadata": {},
   "outputs": [],
   "source": [
    "def arps_decline(t, Qi, Dei, b, Def, prior_cum=0, prior_t=0):\n",
    "    # UID is a unique identifier for the well such as API, must be a number\n",
    "    # phase is 1 = oil, 2 = gas, or 3 = water\n",
    "    # Qi is the initial production rate typically in bbl/day or Mcf/day\n",
    "    # Dei is the initial effective annual decline rate\n",
    "    # Def is the final effective annual decline rate at which point the decline becomes exponential\n",
    "    # b is the b-factor used in hyperbolic or harmonic decline equations\n",
    "    # t is the time as a month integer\n",
    "    # prior_cum is the cumulative amount produced before the start of the decline calcuations\n",
    "    # prior_t is an integer representing the final month from a previous decline segment\n",
    "    \n",
    "    # Calculations to determine decline type\n",
    "    if Dei == Def:\n",
    "        Type = 'exp'\n",
    "    elif Dei > Def and b == 1:\n",
    "        Type = 'har'\n",
    "        Dn = Dei / (1 - Dei)\n",
    "        Qlim = Qi * ((-np.log(1 - Def)) / Dn)\n",
    "        tlim = (((Qi / Qlim) - 1) / Dn) * 12 # output in months\n",
    "    else:\n",
    "        Type = 'hyp'\n",
    "        Dn = (1 / b) * (((1 - Dei) ** -b) - 1)\n",
    "        Qlim = Qi * ((-np.log(1 - Def)) / Dn) ** (1 / b)\n",
    "        tlim = ((((Qi / Qlim) ** b) - 1) / ( b * Dn)) * 12 # output in months\n",
    "    \n",
    "    # Generate volumes\n",
    "    if Type == 'hyp':\n",
    "        Dn_t = Dn / (1 + b * Dn * (t / 12))\n",
    "        De_t = 1 - (1 / ((Dn_t * b) + 1)) ** (1 / b)\n",
    "        if De_t > Def:\n",
    "            q = Qi * (1 + b * Dn * (t / 12)) ** (-1/b)\n",
    "            Np = ((Qi ** b) / (Dn * (1 - b))) * ((Qi ** (1 - b)) - (q ** (1 - b))) * 365\n",
    "        else:\n",
    "            q = Qlim * np.exp(-(-np.log(1 - Def)) * ((t - tlim) / 12))\n",
    "            Np = ((Qlim - q) / (-np.log(1 - Def)) * 365) + (((Qi ** b) / \n",
    "                    (Dn * (1 - b))) * ((Qi ** (1 - b)) - (Qlim ** (1 - b))) * 365)\n",
    "            De_t = Def\n",
    "    elif Type == 'har':\n",
    "        Dn_t = Dn / (1 + Dn * (t / 12))\n",
    "        De_t = 1 - (1 / (Dn_t + 1))\n",
    "        if De_t > Def:\n",
    "            q = Qi / (1 + b * Dn * (t / 12))\n",
    "            Np = (Qi / Dn) * np.log(Qi / q) * 365\n",
    "        else:\n",
    "            q = Qlim * np.exp(-(-np.log(1 - Def)) * ((t - tlim) / 12))\n",
    "            Np = ((Qlim - q) / (-np.log(1 - Def)) * 365) + ((Qi / Dn) * np.log(Qi / Qlim) * 365)\n",
    "            De_t = Def\n",
    "    else:\n",
    "        q = Qi * np.exp(-(-np.log(1 - Dei)) * (t / 12))\n",
    "        Np = (Qi - q) / (-np.log(1 - Dei)) * 365\n",
    "        De_t = Dei\n",
    "    \n",
    "    return t + prior_t, q, Np + prior_cum"
   ]
  },
  {
   "cell_type": "code",
   "execution_count": 3,
   "metadata": {},
   "outputs": [],
   "source": [
    "varps_decline = np.vectorize(arps_decline)"
   ]
  },
  {
   "cell_type": "code",
   "execution_count": 4,
   "metadata": {},
   "outputs": [],
   "source": [
    "# Prepare SQL statement\n",
    "SELECT = 'SELECT P.Property_ID, P.Date, P.Oil, P.Gas, DATEDIFF(DD, W.First_Prod_Date, P.Date) AS date_diff '\n",
    "FROM = 'FROM dbo.Production P '\n",
    "JOIN = 'INNER JOIN (SELECT Property_ID, First_Prod_Date FROM dbo.Wells) W ON P.Property_ID = W.Property_ID'"
   ]
  },
  {
   "cell_type": "code",
   "execution_count": 5,
   "metadata": {},
   "outputs": [],
   "source": [
    "# Bring in production data from SQL\n",
    "def prod_data(db_name = 'SCST_Wells', server_name = 'DESKTOP-A3I0ATB'):\n",
    "    conn_stmt = f'DRIVER={{SQL Server}};SERVER={server_name};DATABASE={db_name};Trusted_Connection=yes'\n",
    "    conn = pyodbc.connect(conn_stmt, autocommit=True)\n",
    "    cursor = conn.cursor()\n",
    "    sql = SELECT + FROM + JOIN\n",
    "    cursor.execute(sql)\n",
    "    data = cursor.fetchall()\n",
    "    prod_df = pd.DataFrame.from_records(data, columns=[col[0] for col in cursor.description])\n",
    "    return prod_df"
   ]
  },
  {
   "cell_type": "code",
   "execution_count": 6,
   "metadata": {},
   "outputs": [],
   "source": [
    "# Create dataframe with production data and another to create well lists for fitting\n",
    "prod_df = prod_data()\n",
    "prod_pivot_df = prod_df.groupby(['Property_ID']).agg({'Oil': 'count', 'Gas': 'count'}).reset_index()"
   ]
  },
  {
   "cell_type": "code",
   "execution_count": 7,
   "metadata": {},
   "outputs": [],
   "source": [
    "# Create lists of wells to filter down the well set.\n",
    "# Purpose is to understand how decline fits evolve with more data\n",
    "oil_list = list(prod_pivot_df[(prod_pivot_df['Oil'] >= 42) & (prod_pivot_df['Oil'] <= 60)]['Property_ID'].values)\n",
    "gas_list = list(prod_pivot_df[(prod_pivot_df['Gas'] >= 42) & (prod_pivot_df['Gas'] <= 60)]['Property_ID'].values)"
   ]
  },
  {
   "cell_type": "code",
   "execution_count": 8,
   "metadata": {},
   "outputs": [],
   "source": [
    "# Add some columns\n",
    "prod_df = prod_df.astype({'Oil': float, 'Gas': float})\n",
    "prod_df['Date'] = pd.to_datetime(prod_df['Date'], format='%Y-%m-%d')\n",
    "prod_df['day'] = prod_df.Date.dt.day\n",
    "prod_df['daily_oil'] = prod_df['Oil'] / prod_df['day']\n",
    "prod_df['daily_gas'] = prod_df['Gas'] / prod_df['day']\n",
    "prod_df = prod_df.fillna(0)\n",
    "prod_df.drop(['day'], axis=1, inplace=True)"
   ]
  },
  {
   "cell_type": "code",
   "execution_count": 11,
   "metadata": {},
   "outputs": [],
   "source": [
    "# Regression equation for Dei to prepare bounds\n",
    "prod_df['min_oil_dei'] = 0.01 * np.log(prod_df['Oil']) - 0.169 * np.log(prod_df['date_diff'] + 1) + 1.536\n",
    "prod_df['exp_oil_dei'] = 0.0139 * np.log(prod_df['Oil']) - 0.1603 * np.log(prod_df['date_diff'] + 1) + 1.6118\n",
    "prod_df['max_oil_dei'] = 0.018 * np.log(prod_df['Oil']) - 0.152 * np.log(prod_df['date_diff'] + 1) + 1.687\n",
    "prod_df['min_gas_dei'] = 0.01 * np.log(prod_df['Gas']) - 0.169 * np.log(prod_df['date_diff'] + 1) + 1.536 - 0.159\n",
    "prod_df['exp_gas_dei'] = 0.0139 * np.log(prod_df['Gas']) - 0.1603 * np.log(prod_df['date_diff'] + 1) + 1.6118 - 0.1464\n",
    "prod_df['max_gas_dei'] = 0.018 * np.log(prod_df['Gas']) - 0.152 * np.log(prod_df['date_diff'] + 1) + 1.687 - 0.133"
   ]
  },
  {
   "cell_type": "code",
   "execution_count": 13,
   "metadata": {},
   "outputs": [],
   "source": [
    "# Define parameters\n",
    "b_init = 1.1\n",
    "Def = 0.08\n",
    "min_q = 10.0\n",
    "max_fit_months = [36, 24, 12, 6] # represents months of tail of production data\n",
    "param_df_cols = ['Property_ID', 'months_of_prod', 'fit_months', 'fit_type', 'Q_guess', 'Q3', 'Dei', 'b-factor']\n",
    "\n",
    "# Define function for fitting\n",
    "def arps_fit(t, Qi, Dei, b):\n",
    "    return varps_decline(t, Qi, Dei, b, Def)[1]\n",
    "\n",
    "# loop through lists\n",
    "param_df = pd.DataFrame()\n",
    "for w in oil_list:\n",
    "    for m in max_fit_months:\n",
    "        df = prod_df[(prod_df['Property_ID'] == w) & (prod_df['Oil'] > 0)]\n",
    "        arr_length = len(df)\n",
    "        fit_length = min(arr_length, m)\n",
    "        df = df.tail(fit_length)\n",
    "        t_act = df['Date'].rank(method='min', ascending=True).values\n",
    "        q_act = df['daily_oil'].values\n",
    "        Qi_guess = np.max(q_act)\n",
    "        Dei_init = np.max([np.min([df.iloc[0, 7], 0.99]), Def])\n",
    "        Dei_min = np.max([np.min([df.iloc[0, 8], 0.99]), Def])\n",
    "        Dei_max = np.max([np.min([df.iloc[0, 9], 0.99]), Def])\n",
    "\n",
    "        # fit Arps equation\n",
    "        if Qi_guess < min_q:\n",
    "            param_list = [w, arr_length, m, 'auto_fit_4', Qi_guess, Qi_guess, Dei_init, b_init]\n",
    "        else:\n",
    "            try:\n",
    "                bounds = ((Qi_guess*0.9, Dei_min, 0.3), (Qi_guess, Dei_max, 1.2))\n",
    "                popt, pcov = curve_fit(arps_fit, t_act, q_act, p0=[Qi_guess, Dei_init, b_init], bounds=bounds, maxfev=3000)\n",
    "                qi_fit, Dei_fit, b_fit = popt\n",
    "                param_list = [w, arr_length, m, 'auto_fit_1', Qi_guess, qi_fit, Dei_fit, b_fit]\n",
    "            except:\n",
    "                try:\n",
    "                    bounds = ((Qi_guess*0.9, Qi_guess))\n",
    "                    popt, pcov = curve_fit(arps_fit, t_act, q_act, p0=[Qi_guess], bounds=bounds, maxfev=3000)\n",
    "                    qi_fit = popt[0]\n",
    "                    param_list = [w, arr_length, m, 'auto_fit_2', Qi_guess, qi_fit, Dei_init, b_init]\n",
    "                except:\n",
    "                    param_list = [w, arr_length, m, 'auto_fit_3', Qi_guess, Qi_guess, Dei_init, b_init]\n",
    "        df_i = pd.DataFrame([param_list], columns=param_df_cols)\n",
    "        param_df = pd.concat([param_df, df_i]).reset_index(drop=True)"
   ]
  },
  {
   "cell_type": "code",
   "execution_count": null,
   "metadata": {},
   "outputs": [],
   "source": [
    "param_df.to_csv('arps_param_autofits.csv')"
   ]
  },
  {
   "cell_type": "code",
   "execution_count": null,
   "metadata": {},
   "outputs": [],
   "source": []
  }
 ],
 "metadata": {
  "kernelspec": {
   "display_name": "base",
   "language": "python",
   "name": "python3"
  },
  "language_info": {
   "codemirror_mode": {
    "name": "ipython",
    "version": 3
   },
   "file_extension": ".py",
   "mimetype": "text/x-python",
   "name": "python",
   "nbconvert_exporter": "python",
   "pygments_lexer": "ipython3",
   "version": "3.8.15"
  },
  "orig_nbformat": 4,
  "vscode": {
   "interpreter": {
    "hash": "a3ead6ff9e9c1be087d7e40f893bad9c1e8f35d013c1ee3985ae6710c98a7135"
   }
  }
 },
 "nbformat": 4,
 "nbformat_minor": 2
}
