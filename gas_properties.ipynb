{
 "cells": [
  {
   "cell_type": "markdown",
   "metadata": {},
   "source": [
    "### Properties of Natural Gases\n",
    "t = temperature of interest (degrees F) \\\n",
    "p = pressure of interest (psia) \\\n",
    "sg = gas specific gravity (air=1) \\\n",
    "n2 = Nitrogen fraction \\\n",
    "co2 = CO2 fraction \\\n",
    "h2s = H2S fraction"
   ]
  },
  {
   "cell_type": "code",
   "execution_count": 15,
   "metadata": {},
   "outputs": [],
   "source": [
    "import numpy as np\n",
    "import math\n",
    "from scipy.integrate import quad"
   ]
  },
  {
   "cell_type": "code",
   "execution_count": 2,
   "metadata": {},
   "outputs": [],
   "source": [
    "# Calculation of pseudo critical Temperature for Natural Gases, units in deg R (McCain Petroleum Fluids, pp. 120, 512)\n",
    "def Tpc(sg, co2 = 0, h2s = 0):\n",
    "    a_fac = (co2 + h2s)\n",
    "    tc_adj = 120 * ((a_fac ** 0.9) - (a_fac ** 1.6)) + 15 * ((h2s ** 0.5) * (h2s ** 4))\n",
    "    Tpc1 = 169.2 + 349.5 * sg - 74.0 * (sg ** 2)\n",
    "    Tpc = Tpc1 - tc_adj\n",
    "    return Tpc"
   ]
  },
  {
   "cell_type": "code",
   "execution_count": 3,
   "metadata": {},
   "outputs": [],
   "source": [
    "# Calculation of pseudo critical Pressure for Natural Gases, units in psia (McCain Petroleum Fluids, pp. 120, 512)\n",
    "def Ppc(sg, co2 = 0, h2s = 0):\n",
    "    a_fac = (co2 + h2s)\n",
    "    tc_adj = 120 * ((a_fac ** 0.9) - (a_fac ** 1.6)) + 15 * ((h2s ** 0.5) * (h2s ** 4))\n",
    "    Tpc1 = 169.2 + 349.5 * sg - 74.0 * (sg ** 2)\n",
    "    Ppc1 = 756.8 - 131.0 * sg - 3.6 * (sg ** 2)\n",
    "    Ppc = (Ppc1 * Tpc(sg, co2, h2s)) / (Tpc1 + h2s * (1 - h2s) * tc_adj)\n",
    "    return Ppc"
   ]
  },
  {
   "cell_type": "code",
   "execution_count": 4,
   "metadata": {},
   "outputs": [],
   "source": [
    "# Calculation of z-factor, unitless (McCain Petroleum Fluids, pp. 111, 510)\n",
    "def z_factor(p, t, sg, co2 = 0, h2s = 0):\n",
    "    a1 = 0.3265\n",
    "    a2 = -1.07\n",
    "    a3 = -0.5339\n",
    "    a4 = 0.01569\n",
    "    a5 = -0.05165\n",
    "    a6 = 0.5475\n",
    "    a7 = -0.7361\n",
    "    a8 = 0.1844\n",
    "    a9 = 0.1056\n",
    "    a10 = 0.6134\n",
    "    a11 = 0.7210\n",
    "    Tpr = (t + 460) / Tpc(sg, co2, h2s)\n",
    "    Ppr = p / Ppc(sg, co2, h2s)\n",
    "    Rpr = 0.27 * (Ppr / Tpr)\n",
    "    for i in range(1000):\n",
    "        z1 = 1 + ((a1 + (a2 / Tpr) + (a3 / (Tpr ** 3)) + (a4 / (Tpr ** 4)) + (a5 / (Tpr ** 5))) * Rpr)\n",
    "        z2 = (a6 + (a7 / Tpr) + (a8 / (Tpr ** 2))) * (Rpr ** 2)\n",
    "        z3 = -a9 * ((a7 / Tpr) + (a8 / (Tpr ** 2))) * (Rpr ** 5)\n",
    "        z4 = a10 * (1 + (a11 * (Rpr ** 2))) * ((Rpr **2) / (Tpr ** 3)) * np.exp(-a11 * (Rpr ** 2))\n",
    "        z_factor = z1 + z2 + z3 + z4\n",
    "        Rpr_old = Rpr\n",
    "        Rpr = 0.27 * (Ppr / (z_factor * Tpr))\n",
    "        test = abs((Rpr - Rpr_old) / Rpr)\n",
    "        if test < 0.00001:\n",
    "            break\n",
    "    return z_factor\n"
   ]
  },
  {
   "cell_type": "code",
   "execution_count": 5,
   "metadata": {},
   "outputs": [],
   "source": [
    "# Calculation of compressibility of natural gas, units of 1/psia (McCain Petroleum Fluids, pp. 176, 512 - 513)\n",
    "def c_gas(p, t, sg, co2 = 0, h2s = 0):\n",
    "    a1 = 0.3265\n",
    "    a2 = -1.07\n",
    "    a3 = -0.5339\n",
    "    a4 = 0.01569\n",
    "    a5 = -0.05165\n",
    "    a6 = 0.5475\n",
    "    a7 = -0.7361\n",
    "    a8 = 0.1844\n",
    "    a9 = 0.1056\n",
    "    a10 = 0.6134\n",
    "    a11 = 0.7210\n",
    "    Tpr = (t + 460) / Tpc(sg, co2, h2s)\n",
    "    Ppr = p / Ppc(sg, co2, h2s)\n",
    "    z = z_factor(p, t, sg, co2, h2s)\n",
    "    Rpr = 0.27 * (Ppr / (z *Tpr))\n",
    "    dcpr1 = a1 + (a2 / Tpr) + (a3 / (Tpr ** 3)) + (a4 / (Tpr ** 4)) + (a5 / (Tpr ** 5))\n",
    "    dcpr2 = 2 * Rpr * (a6 + (a7 / Tpr) + (a8 / (Tpr ** 2))) - 5 * (Rpr ** 4) * a9 * ((a7 / Tpr) + (a8 / (Tpr ** 2)))\n",
    "    dcpr3 = ((2 * a10 * Rpr) / (Tpr ** 3)) * (1 + (a11 * (Rpr ** 2)) - ((a11 ** 2) * (Rpr ** 4))) * np.exp(-a11 * (Rpr ** 2))\n",
    "    dcpr = dcpr1 + dcpr2 + dcpr3\n",
    "    cpr = (1 / Ppr) - (0.27 / ((z ** 2) * Tpr)) * (dcpr / (1 + (Rpr / z) * dcpr))\n",
    "    cg = cpr / Ppc(sg, co2, h2s)\n",
    "    return cg"
   ]
  },
  {
   "cell_type": "code",
   "execution_count": 6,
   "metadata": {},
   "outputs": [],
   "source": [
    "# Calculation of viscosity of natural gas, units of cp (McCain Petroleum Fluids, pp. 105, 514 - 515)\n",
    "def mu_gas(p, t, sg, co2 = 0, h2s = 0):\n",
    "    z = z_factor(p, t, sg, co2, h2s)\n",
    "    mw = 28.97 * sg\n",
    "    R = 10.732 # units of (psia * cu-ft) / (lb-mole * deg R)\n",
    "    rhog = ((p * mw) / (z * R * (t + 460))) / (62.427962) # units of gm/cc\n",
    "    mu_afac = ((9.379 + 0.01607 * mw) * ((t + 460) ** 1.5)) / (209.2 + 19.26 * mw + (t + 460))\n",
    "    mu_bfac = 3.448 + (986.4 / (t + 460)) + 0.01009 * mw\n",
    "    mu_cfac = 2.447 - 0.2224 * mu_bfac\n",
    "    mu_g = (mu_afac / 10000) * np.exp(mu_bfac * (rhog ** mu_cfac))\n",
    "    return mu_g"
   ]
  },
  {
   "cell_type": "code",
   "execution_count": 7,
   "metadata": {},
   "outputs": [],
   "source": [
    "# Calculation of gas formation volume factor, units of cu-ft - scf (Craft & Hawkins Applied Petroleum Reservoir Engineering, pg. 23)\n",
    "def b_gas(p, t, sg, co2 = 0, h2s = 0):\n",
    "    z = z_factor(p, t, sg, co2, h2s)\n",
    "    bg = 0.02829 * (z * (t + 460)) / p\n",
    "    return bg"
   ]
  },
  {
   "cell_type": "code",
   "execution_count": 32,
   "metadata": {},
   "outputs": [],
   "source": [
    "# Calculation of gas pseudo pressure (Petroleum Engineering Handbook Va, pg 757)\n",
    "def mp_gas(p, t, sg, co2 = 0, h2s = 0):\n",
    "    def integrand(p):\n",
    "        mu_g = mu_gas(p, t, sg, co2, h2s)\n",
    "        z = z_factor(p, t, sg, co2, h2s)\n",
    "        integrand = p / (mu_g * z)\n",
    "        return integrand\n",
    "    mp = quad(integrand, 0, p)[0]\n",
    "    return mp"
   ]
  },
  {
   "cell_type": "code",
   "execution_count": null,
   "metadata": {},
   "outputs": [],
   "source": []
  }
 ],
 "metadata": {
  "interpreter": {
   "hash": "0ff03a64fb4ae0c400ab7c419a02e945e59263ca631ba38b68c483e7f9ccc612"
  },
  "kernelspec": {
   "display_name": "Python 3.6.13 ('myenv')",
   "language": "python",
   "name": "python3"
  },
  "language_info": {
   "codemirror_mode": {
    "name": "ipython",
    "version": 3
   },
   "file_extension": ".py",
   "mimetype": "text/x-python",
   "name": "python",
   "nbconvert_exporter": "python",
   "pygments_lexer": "ipython3",
   "version": "3.6.13"
  },
  "orig_nbformat": 4
 },
 "nbformat": 4,
 "nbformat_minor": 2
}
