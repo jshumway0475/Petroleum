{
 "cells": [
  {
   "cell_type": "markdown",
   "metadata": {},
   "source": [
    "This transform has limitations:\n",
    "1. It assumes that the Initial and Ending Rates are in units of B/M or M/M\n",
    "2. It only works on individual phase forecasts, not ratios\n",
    "\n",
    "Last modified: March 21, 2024"
   ]
  },
  {
   "cell_type": "code",
   "execution_count": null,
   "metadata": {},
   "outputs": [],
   "source": [
    "import pandas as pd\n",
    "import numpy as np\n",
    "from config.config_loader import get_config\n",
    "import AnalyticsAndDBScripts.sql_connect as sql\n",
    "import AnalyticsAndDBScripts.sql_schemas as schema"
   ]
  },
  {
   "cell_type": "code",
   "execution_count": null,
   "metadata": {},
   "outputs": [],
   "source": [
    "# Load configs\n",
    "sql_creds_dict = get_config('credentials', 'sql1_sa')\n",
    "\n",
    "# Create distinct dictionaries for each database\n",
    "sql_aries_creds_dict = sql_creds_dict.copy()\n",
    "sql_aries_creds_dict['db_name'] = 'Analytics_Aries'\n",
    "sql_creds_dict['db_name'] = 'Analytics'"
   ]
  },
  {
   "cell_type": "code",
   "execution_count": null,
   "metadata": {},
   "outputs": [],
   "source": [
    "qualifier_name = 'CONDUIT'\n",
    "\n",
    "statement = f'''\n",
    "SELECT      E.*, M.WELL_ID AS WellID\n",
    "FROM        dbo.AC_ECONOMIC E\n",
    "LEFT JOIN   dbo.AC_PROPERTY M\n",
    "ON          E.PROPNUM = M.PROPNUM\n",
    "WHERE       E.QUALIFIER = '{qualifier_name}'\n",
    "AND         E.SECTION = 4\n",
    "ORDER BY    E.SEQUENCE\n",
    "'''"
   ]
  },
  {
   "cell_type": "code",
   "execution_count": null,
   "metadata": {},
   "outputs": [],
   "source": [
    "# Execute query and store results in a dataframe\n",
    "engine = sql.sql_connect(\n",
    "    username=sql_aries_creds_dict['username'], \n",
    "    password=sql_aries_creds_dict['password'], \n",
    "    db_name=sql_aries_creds_dict['db_name'], \n",
    "    server_name=sql_aries_creds_dict['servername'], \n",
    "    port=sql_aries_creds_dict['port']\n",
    ")\n",
    "try:\n",
    "    fcst_df = pd.read_sql(statement, engine)\n",
    "finally:\n",
    "    engine.dispose()"
   ]
  },
  {
   "cell_type": "code",
   "execution_count": null,
   "metadata": {},
   "outputs": [],
   "source": [
    "# Extract values from fcst_df EXPRESSION strings associated with forecast start dates\n",
    "start_df = fcst_df.copy()\n",
    "start_df['Measure'] = start_df.groupby('PROPNUM')['KEYWORD'].shift(-1)\n",
    "start_df['Measure'] = start_df['Measure'].replace('WTR', 'WATER')\n",
    "start_df = start_df[start_df['KEYWORD'] == 'START']\n",
    "start_df['StartDate'] = pd.to_datetime(start_df['EXPRESSION'], format='%m/%Y')\n",
    "start_df['StartDate'] = start_df['StartDate'] + pd.offsets.MonthEnd(1)\n",
    "start_df = start_df.rename(columns={'QUALIFIER': 'Analyst'})\n",
    "start_df = start_df[['PROPNUM', 'WellID', 'Analyst', 'Measure', 'StartDate']]"
   ]
  },
  {
   "cell_type": "code",
   "execution_count": null,
   "metadata": {},
   "outputs": [],
   "source": [
    "# Extract values from fcst_df EXPRESSION strings associated with arps forecasts\n",
    "measure_df = fcst_df[fcst_df['KEYWORD'].isin(['OIL', 'GAS', 'WTR', '\"'])].copy()\n",
    "measure_df['KEYWORD'] = measure_df.groupby('PROPNUM')['KEYWORD'].shift(1).where(measure_df['KEYWORD'] == '\"', measure_df['KEYWORD'])\n",
    "measure_df = measure_df.sort_values(['PROPNUM', 'KEYWORD', 'SEQUENCE'], ascending=[True, True, False])\n",
    "measure_df['fcst_index'] = measure_df.groupby(['PROPNUM', 'KEYWORD'])['KEYWORD'].cumcount() + 1\n",
    "measure_df = measure_df.sort_values(['PROPNUM', 'KEYWORD', 'SEQUENCE'])\n",
    "measure_df['EXPRESSION'] = measure_df['EXPRESSION'].str.split(' ')\n",
    "measure_df[['InitialRate', 'EndingRate', 'RateUnits', 'LimitValue', 'LimitUnits', 'ForecastMethod', 'ForecastMethodValue']] = pd.DataFrame(measure_df['EXPRESSION'].tolist(), index=measure_df.index)\n",
    "measure_df[['InitialRate', 'EndingRate', 'RateUnits', 'LimitValue']] = measure_df[['InitialRate', 'EndingRate', 'RateUnits', 'LimitValue']].replace('X', np.nan)\n",
    "measure_df['b_factor'] = measure_df['ForecastMethod'].str.extract(r'B/(\\d+\\.?\\d*)')\n",
    "measure_df['ForecastMethod'] = measure_df['ForecastMethod'].str.replace(r'B/\\d+(\\.\\d+)?', 'HYP', regex=True)\n",
    "\n",
    "# Convert columns to numeric\n",
    "cols_to_convert = ['InitialRate', 'EndingRate', 'LimitValue', 'ForecastMethodValue', 'b_factor']\n",
    "measure_df[cols_to_convert] = measure_df[cols_to_convert].apply(pd.to_numeric, errors='coerce')\n",
    "\n",
    "# Extract values for Q1, Q2, Q3, Qabn, Dei, Def, t1, and t2\n",
    "measure_df['Q1'] = np.where(\n",
    "    (measure_df['ForecastMethod'] == 'EXP') & (measure_df['fcst_index'] > 2),\n",
    "    measure_df['InitialRate'], np.nan\n",
    ")\n",
    "measure_df['Q2'] = np.where(\n",
    "    (measure_df['ForecastMethod'] == 'EXP') & (measure_df['fcst_index'] > 2),\n",
    "    measure_df['EndingRate'], np.nan\n",
    ")\n",
    "measure_df['Q3'] = np.where((measure_df['fcst_index'] <= 2), measure_df['InitialRate'], np.nan)\n",
    "measure_df['Qabn'] = np.where((measure_df['fcst_index'] == 1), measure_df['EndingRate'], 1.0)\n",
    "measure_df['Dei'] = np.where((measure_df['fcst_index'] <= 2), measure_df['ForecastMethodValue'], np.nan)\n",
    "measure_df['Def'] = np.where((measure_df['fcst_index'] == 1), measure_df['ForecastMethodValue'], np.nan)\n",
    "measure_df['t1'] = np.where(\n",
    "    (measure_df['ForecastMethod'] == 'EXP') & (measure_df['fcst_index'] > 2) & (measure_df['LimitUnits'] == 'MO'), \n",
    "    measure_df['LimitValue'], np.nan\n",
    ")\n",
    "measure_df['t2'] = np.where(\n",
    "    (measure_df['ForecastMethod'] == 'EXP') & (measure_df['fcst_index'] > 2) & (measure_df['LimitUnits'] == 'IMO'), \n",
    "    measure_df['LimitValue'], np.nan\n",
    ")\n",
    "measure_df['Q1'] = np.where(measure_df['RateUnits'].isin(['B/M', 'M/M']), measure_df['Q1'] / 30.42, measure_df['Q1'])\n",
    "measure_df['Q2'] = np.where(measure_df['RateUnits'].isin(['B/M', 'M/M']), measure_df['Q2'] / 30.42, measure_df['Q2'])\n",
    "measure_df['Q3'] = np.where(measure_df['RateUnits'].isin(['B/M', 'M/M']), measure_df['Q3'] / 30.42, measure_df['Q3'])\n",
    "measure_df['Qabn'] = np.where(measure_df['RateUnits'].isin(['B/M', 'M/M']), measure_df['Qabn'] / 30.42, measure_df['Qabn'])\n",
    "\n",
    "# Aggregate to fit the proper schema\n",
    "drop_columns = [\n",
    "    'SECTION', 'SEQUENCE', 'EXPRESSION', 'fcst_index', 'InitialRate', 'EndingRate', \n",
    "    'RateUnits', 'LimitValue', 'LimitUnits', 'ForecastMethod', 'ForecastMethodValue'\n",
    "]\n",
    "forecast_df = measure_df.drop(columns=drop_columns)\n",
    "forecast_df = forecast_df.groupby(['PROPNUM', 'WellID', 'QUALIFIER', 'KEYWORD']).agg('max').reset_index()\n",
    "\n",
    "# Replace KEYWORD value == WTR with WATER\n",
    "forecast_df['KEYWORD'] = forecast_df['KEYWORD'].replace('WTR', 'WATER')\n",
    "\n",
    "# Rename QUALIFIER column to Analyst and KEYWORD to Measure\n",
    "forecast_df = forecast_df.rename(columns={'QUALIFIER': 'Analyst', 'KEYWORD': 'Measure'})\n",
    "\n",
    "# Set minimum value of Qabn to 1.0.\n",
    "forecast_df['Qabn'] = forecast_df['Qabn'].clip(lower=1.0)\n",
    "\n",
    "# Divide Dei and Def columns by 100.0\n",
    "forecast_df[['Dei', 'Def']] = forecast_df[['Dei', 'Def']].div(100.0)\n",
    "\n",
    "# Add a units column. When Measure == GAS, units = MCF. When Measure == OIL, units = BBL.\n",
    "forecast_df['Units'] = np.where(forecast_df['Measure'] == 'GAS', 'MCF', 'BBL')\n",
    "\n",
    "# Join StartDate column from start_df to forecast_df\n",
    "forecast_df = pd.merge(forecast_df, start_df, how='left', on=['PROPNUM', 'WellID', 'Analyst', 'Measure'])\n",
    "forecast_df['DateCreated'] = pd.to_datetime('today')"
   ]
  },
  {
   "cell_type": "code",
   "execution_count": null,
   "metadata": {},
   "outputs": [],
   "source": [
    "# Select and reorder columns\n",
    "cols = ['WellID', 'Measure', 'Units', 'StartDate', 'Q1', 'Q2', 'Q3', 'Qabn', 'Dei', 'b_factor', 'Def', 't1', 't2', 'Analyst', 'DateCreated']\n",
    "forecast_df = forecast_df[cols]\n",
    "\n",
    "# Convert NaN to None for proper database insertion\n",
    "forecast_df = forecast_df.where(pd.notnull(forecast_df), None)"
   ]
  },
  {
   "cell_type": "code",
   "execution_count": null,
   "metadata": {},
   "outputs": [],
   "source": [
    "# Load well_df into dbo.FORECAST_STAGE table in SQL Server\n",
    "sql.load_data_to_sql(forecast_df, sql_creds_dict, schema.forecast_stage)\n",
    "\n",
    "# Move data from dbo.FORECAST_STAGE to dbo.FORECAST and drop dbo.FORECAST_STAGE\n",
    "sql.execute_stored_procedure(sql_creds_dict, 'sp_InsertFromStagingToForecast')"
   ]
  },
  {
   "cell_type": "code",
   "execution_count": null,
   "metadata": {},
   "outputs": [],
   "source": []
  }
 ],
 "metadata": {
  "kernelspec": {
   "display_name": "Python 3",
   "language": "python",
   "name": "python3"
  },
  "language_info": {
   "codemirror_mode": {
    "name": "ipython",
    "version": 3
   },
   "file_extension": ".py",
   "mimetype": "text/x-python",
   "name": "python",
   "nbconvert_exporter": "python",
   "pygments_lexer": "ipython3",
   "version": "3.10.12"
  }
 },
 "nbformat": 4,
 "nbformat_minor": 2
}
