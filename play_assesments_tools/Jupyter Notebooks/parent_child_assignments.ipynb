{
 "cells": [
  {
   "cell_type": "markdown",
   "metadata": {},
   "source": [
    "#### Assign parent / child relationships\n",
    "- P: Parent\n",
    "- C: Child\n",
    "- Co: Co-completed\n",
    "- S: Standalone\n",
    "- Example: P|C = parent to the well on the left side and child to the well on the right side\n",
    "- Example: |Co = Standalone on the left side and co-completed with the well to the right"
   ]
  },
  {
   "cell_type": "code",
   "execution_count": null,
   "metadata": {},
   "outputs": [],
   "source": [
    "import pandas as pd\n",
    "import numpy as np\n",
    "from config.config_loader import get_config\n",
    "import AnalyticsAndDBScripts.sql_connect as sql\n",
    "import AnalyticsAndDBScripts.sql_schemas as schema\n",
    "import AnalyticsAndDBScripts.well_spacing as ws"
   ]
  },
  {
   "cell_type": "code",
   "execution_count": null,
   "metadata": {},
   "outputs": [],
   "source": [
    "# Load credentials for SQL connection\n",
    "sql_creds_dict = get_config('credentials', 'sql1_sa')\n",
    "\n",
    "# Add db_name to the dictionary\n",
    "sql_creds_dict['db_name'] = 'Analytics'\n",
    "\n",
    "# Load parameters\n",
    "params = get_config('well_spacing')"
   ]
  },
  {
   "cell_type": "code",
   "execution_count": null,
   "metadata": {},
   "outputs": [],
   "source": [
    "# Statement to load data from SQL Server into a pandas dataframe\n",
    "data_source = 'ENVERUS'\n",
    "intersection_fraction = params['intersection_fraction']\n",
    "comparison_field = 'FitGroup' # 'Interval' or 'FitGroup'\n",
    "cond1 = f\"C.DataSource = '{data_source}' AND W.FitGroup = 'NIOBRARA'\"\n",
    "\n",
    "statement1 = f'''\n",
    "SELECT\t\tW.WellID, W.API_UWI_Unformatted, W.FitGroup, W.Basin, C.Interval, W.FirstProdDate\n",
    "FROM\t\tdbo.WELL_HEADER W\n",
    "INNER JOIN\tdbo.COMPLETION_HEADER C\n",
    "ON\t\t\tW.CurrentCompletionID = C.CompletionID\n",
    "WHERE\t\tW.FirstProdDate IS NOT NULL\n",
    "AND\t\t\tW.Geometry IS NOT NULL\n",
    "AND\t\t\t{cond1}\n",
    "'''\n",
    "\n",
    "statement2 = f'''\n",
    "WITH WELL_CTE AS ({statement1})\n",
    "SELECT      S.WellID, S.neighboring_WellID, S.MinDistance, S.MedianDistance, S.AvgDistance, \n",
    "\t\t\tS.Neighbor_IntersectionFraction, S.RelativePosition, W.FirstProdDate, \n",
    "   \t\t\tW2.FirstProdDate AS neighbor_FirstProdDate, \n",
    "            DATEDIFF(DAY, W.FirstProdDate, W2.FirstProdDate) AS DaysToNeighborFirstProd\n",
    "FROM        dbo.WELL_SPACING AS S\n",
    "INNER JOIN  WELL_CTE AS W\n",
    "ON          S.WellID = W.WellID\n",
    "INNER JOIN  WELL_CTE AS W2\n",
    "ON          S.neighboring_WellID = W2.WellID\n",
    "WHERE       S.neighbor_IntersectionFraction >= {intersection_fraction}\n",
    "AND \t   \tW.Basin = W2.Basin\n",
    "AND \t   \tW.{comparison_field} = W2.{comparison_field}\n",
    "'''"
   ]
  },
  {
   "cell_type": "code",
   "execution_count": null,
   "metadata": {},
   "outputs": [],
   "source": [
    "# Execute query and store results in a dataframe\n",
    "engine = sql.sql_connect(\n",
    "    username=sql_creds_dict['username'], \n",
    "    password=sql_creds_dict['password'], \n",
    "    db_name=sql_creds_dict['db_name'], \n",
    "    server_name=sql_creds_dict['servername'], \n",
    "    port=sql_creds_dict['port']\n",
    ")\n",
    "try:\n",
    "    well_df = pd.read_sql(statement1, engine)\n",
    "    spacing_df = pd.read_sql(statement2, engine)\n",
    "finally:\n",
    "    engine.dispose()"
   ]
  },
  {
   "cell_type": "code",
   "execution_count": null,
   "metadata": {},
   "outputs": [],
   "source": [
    "# Run parent_child_processing function\n",
    "closest_wells = ws.parent_child_processing(\n",
    "    spacing_df, \n",
    "    well_df, \n",
    "    co_completed_threshold=params['co_completed_threshold'], \n",
    "    id_col='WellID', \n",
    "    position_col='RelativePosition', \n",
    "    date_col='FirstProdDate', \n",
    "    distance_col='AvgDistance', \n",
    "    neighbor_date_col='neighbor_FirstProdDate', \n",
    "    scenario_name=data_source\n",
    ")"
   ]
  },
  {
   "cell_type": "code",
   "execution_count": null,
   "metadata": {},
   "outputs": [],
   "source": [
    "# Convert NaN to None for proper database insertion\n",
    "closest_wells = closest_wells.where(pd.notnull(closest_wells), None)"
   ]
  },
  {
   "cell_type": "code",
   "execution_count": null,
   "metadata": {},
   "outputs": [],
   "source": [
    "# Load well_df into dbo.PARENT_CHILD_STAGE table in SQL Server\n",
    "sql.load_data_to_sql(closest_wells, sql_creds_dict, schema.parent_child_stage)\n",
    "\n",
    "# Move data from dbo.PARENT_CHILD_STAGE to dbo.PARENT_CHILD and drop dbo.PARENT_CHILD_STAGE\n",
    "sql.execute_stored_procedure(sql_creds_dict, 'sp_InsertFromStagingToParentChild')"
   ]
  },
  {
   "cell_type": "code",
   "execution_count": null,
   "metadata": {},
   "outputs": [],
   "source": []
  }
 ],
 "metadata": {
  "kernelspec": {
   "display_name": "Python 3",
   "language": "python",
   "name": "python3"
  },
  "language_info": {
   "codemirror_mode": {
    "name": "ipython",
    "version": 3
   },
   "file_extension": ".py",
   "mimetype": "text/x-python",
   "name": "python",
   "nbconvert_exporter": "python",
   "pygments_lexer": "ipython3",
   "version": "3.10.12"
  },
  "orig_nbformat": 4
 },
 "nbformat": 4,
 "nbformat_minor": 2
}
