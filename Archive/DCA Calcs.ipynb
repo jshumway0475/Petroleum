{
 "cells": [
  {
   "cell_type": "code",
   "execution_count": 4,
   "metadata": {},
   "outputs": [
    {
     "name": "stdout",
     "output_type": "stream",
     "text": [
      "The EUR for a life of 50.00 years is 908,498.17\n"
     ]
    }
   ],
   "source": [
    "# Calculate monthly volumes from hyperbolic arps parameters\n",
    "\n",
    "import numpy as np\n",
    "import pandas as pd\n",
    "\n",
    "# Arps inputs\n",
    "Qi = 800 # Input as daily rate\n",
    "Dei = 0.639 # Input as annual effective decline\n",
    "Def = 0.06 # Input as annual effective decline\n",
    "b = 1.4\n",
    "months = 600\n",
    "time = []\n",
    "d = []\n",
    "rate = []\n",
    "vol = []\n",
    "\n",
    "# Calculations to determine decline type\n",
    "if Dei == Def:\n",
    "    Type = 'exp'\n",
    "elif Dei > Def and b == 1:\n",
    "    Type = 'har'\n",
    "    Dn = Dei / (1 - Dei)\n",
    "else:\n",
    "    Type = 'hyp'\n",
    "    Dn = (1 / b) * (((1 - Dei) ** -b) - 1)\n",
    "\n",
    "# Generate volumes\n",
    "for t in range(months):      \n",
    "    if Type == 'hyp':\n",
    "        Dn_t = Dn / (1 + b * Dn * (t / 12))\n",
    "        De_t = 1 - (1 / ((Dn_t * b) + 1)) ** (1 / b)\n",
    "        if De_t > Def:\n",
    "            q = Qi * (1 + b * Dn * (t / 12)) ** (-1/b)\n",
    "            Np = ((Qi ** b) / (Dn * (1 - b))) * ((Qi ** (1 - b)) - (q ** (1 - b))) * 365\n",
    "        else:\n",
    "            q = rate[t - 1] * np.exp(-(-np.log(1 - Def)) * (1 / 12))\n",
    "            Np = ((rate[t - 1] - q) / (-np.log(1 - Def)) * 365) + vol[t - 1]\n",
    "            De_t = Def\n",
    "        time.append(t)\n",
    "        d.append(De_t)\n",
    "        rate.append(q)\n",
    "        vol.append(Np)\n",
    "    elif Type == 'har':\n",
    "        Dn_t = Dn / (1 + Dn * (t / 12))\n",
    "        De_t = 1 - (1 / (Dn_t + 1))\n",
    "        if De_t > Def:\n",
    "            q = Qi / (1 + b * Dn * (t / 12))\n",
    "            Np = (Qi / Dn) * np.log(Qi / q) * 365\n",
    "        else:\n",
    "            q = rate[t - 1] * np.exp(-(-np.log(1 - Def)) * (1 / 12))\n",
    "            Np = ((rate[t - 1] - q) / (-np.log(1 - Def)) * 365) + vol[t - 1]\n",
    "            De_t = Def\n",
    "        time.append(t)\n",
    "        d.append(De_t)\n",
    "        rate.append(q)\n",
    "        vol.append(Np)\n",
    "    else:\n",
    "        q = Qi * np.exp(-(-np.log(1 - Dei)) * (t / 12))\n",
    "        Np = (Qi - q) / (-np.log(1 - Dei)) * 365\n",
    "        De_t = Dei\n",
    "        time.append(t)\n",
    "        d.append(De_t)\n",
    "        rate.append(q)\n",
    "        vol.append(Np)\n",
    "\n",
    "# Create and format pandas data frame\n",
    "Out = pd.DataFrame({'Month':time, 'De':d, 'Rate':rate, 'Np':vol}, index = time)\n",
    "Out['De'] = Out['De'].map('{:.4f}'.format)\n",
    "Out['Rate'] = Out['Rate'].map('{:,.2f}'.format)\n",
    "Out['Np'] = Out['Np'].map('{:,.2f}'.format)\n",
    "\n",
    "# Calculate EUR\n",
    "EUR = max(vol)\n",
    "print(f'The EUR for a life of {months / 12:,.2f} years is {EUR:,.2f}')\n",
    "\n",
    "# Output monthly volumes to csv\n",
    "Out.to_csv('monthly.csv')"
   ]
  },
  {
   "cell_type": "code",
   "execution_count": null,
   "metadata": {},
   "outputs": [],
   "source": []
  }
 ],
 "metadata": {
  "kernelspec": {
   "display_name": "Python 3",
   "language": "python",
   "name": "python3"
  },
  "language_info": {
   "codemirror_mode": {
    "name": "ipython",
    "version": 3
   },
   "file_extension": ".py",
   "mimetype": "text/x-python",
   "name": "python",
   "nbconvert_exporter": "python",
   "pygments_lexer": "ipython3",
   "version": "3.7.3"
  }
 },
 "nbformat": 4,
 "nbformat_minor": 2
}
